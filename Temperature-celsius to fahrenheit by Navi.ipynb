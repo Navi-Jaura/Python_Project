{
 "cells": [
  {
   "cell_type": "code",
   "execution_count": 1,
   "id": "c6e103cd",
   "metadata": {},
   "outputs": [],
   "source": [
    "# The degree Celsius (symbol: °C) can refer to a specific temperature on the Celsius scale or \n",
    "# a unit to indicate a difference or range between two temperatures."
   ]
  },
  {
   "cell_type": "code",
   "execution_count": 2,
   "id": "c5e16a8b",
   "metadata": {},
   "outputs": [],
   "source": [
    "# Temp change from celsius to fahrenheit"
   ]
  },
  {
   "cell_type": "code",
   "execution_count": 3,
   "id": "104eb460",
   "metadata": {},
   "outputs": [
    {
     "name": "stdout",
     "output_type": "stream",
     "text": [
      "Enter Temperature: 52\n",
      "125.6\n"
     ]
    }
   ],
   "source": [
    "a=float(input(\"Enter Temperature: \"))\n",
    "#Enter scale degree to check celsius temperature\n",
    "f=(a*9/5)+32\n",
    "print(f)"
   ]
  },
  {
   "cell_type": "code",
   "execution_count": null,
   "id": "d98001bf",
   "metadata": {},
   "outputs": [],
   "source": []
  }
 ],
 "metadata": {
  "kernelspec": {
   "display_name": "Python 3 (ipykernel)",
   "language": "python",
   "name": "python3"
  },
  "language_info": {
   "codemirror_mode": {
    "name": "ipython",
    "version": 3
   },
   "file_extension": ".py",
   "mimetype": "text/x-python",
   "name": "python",
   "nbconvert_exporter": "python",
   "pygments_lexer": "ipython3",
   "version": "3.10.11"
  }
 },
 "nbformat": 4,
 "nbformat_minor": 5
}
