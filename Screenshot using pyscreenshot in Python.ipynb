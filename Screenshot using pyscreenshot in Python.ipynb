{
 "cells": [
  {
   "cell_type": "code",
   "execution_count": 2,
   "id": "6a6a44e0",
   "metadata": {},
   "outputs": [
    {
     "name": "stdout",
     "output_type": "stream",
     "text": [
      "Requirement already satisfied: pyscreenshot in c:\\users\\hp\\anaconda2\\envs\\tensorflow\\lib\\site-packages (3.1)\n",
      "Requirement already satisfied: EasyProcess in c:\\users\\hp\\anaconda2\\envs\\tensorflow\\lib\\site-packages (from pyscreenshot) (1.1)\n",
      "Requirement already satisfied: entrypoint2 in c:\\users\\hp\\anaconda2\\envs\\tensorflow\\lib\\site-packages (from pyscreenshot) (1.1)\n",
      "Requirement already satisfied: mss in c:\\users\\hp\\anaconda2\\envs\\tensorflow\\lib\\site-packages (from pyscreenshot) (9.0.1)\n",
      "Note: you may need to restart the kernel to use updated packages.\n"
     ]
    }
   ],
   "source": [
    "pip install pyscreenshot"
   ]
  },
  {
   "cell_type": "markdown",
   "id": "fa9ee08e",
   "metadata": {},
   "source": [
    "# Take Full Screenshot"
   ]
  },
  {
   "cell_type": "code",
   "execution_count": 1,
   "id": "9c8715bc",
   "metadata": {},
   "outputs": [],
   "source": [
    "# Program to take screenshot \n",
    "  \n",
    "import pyscreenshot \n",
    "\n",
    "  \n",
    "# To capture the screen \n",
    "image = pyscreenshot.grab() \n",
    "\n",
    "\n",
    "# To display the captured screenshot \n",
    "image.show() \n",
    "\n",
    "\n",
    "# To save the screenshot \n",
    "image.save(\"Python Shot.png\")"
   ]
  },
  {
   "cell_type": "code",
   "execution_count": null,
   "id": "fea39fd9",
   "metadata": {},
   "outputs": [],
   "source": []
  },
  {
   "cell_type": "markdown",
   "id": "89cdfc33",
   "metadata": {},
   "source": [
    "# Take Part of Screenshot"
   ]
  },
  {
   "cell_type": "code",
   "execution_count": 3,
   "id": "c9a3168e",
   "metadata": {},
   "outputs": [],
   "source": [
    "# Program for partial screenshot \n",
    "  \n",
    "import pyscreenshot \n",
    "  \n",
    "# im=pyscreenshot.grab(bbox=(x1,x2,y1,y2)) \n",
    "image = pyscreenshot.grab(bbox=(10, 10, 500, 500)) \n",
    "  \n",
    "# To view the screenshot \n",
    "image.show() \n",
    "  \n",
    "# To save the screenshot \n",
    "image.save(\"Python Half Shot.png\")"
   ]
  },
  {
   "cell_type": "code",
   "execution_count": null,
   "id": "deb70552",
   "metadata": {},
   "outputs": [],
   "source": []
  }
 ],
 "metadata": {
  "kernelspec": {
   "display_name": "Python 3 (ipykernel)",
   "language": "python",
   "name": "python3"
  },
  "language_info": {
   "codemirror_mode": {
    "name": "ipython",
    "version": 3
   },
   "file_extension": ".py",
   "mimetype": "text/x-python",
   "name": "python",
   "nbconvert_exporter": "python",
   "pygments_lexer": "ipython3",
   "version": "3.10.11"
  }
 },
 "nbformat": 4,
 "nbformat_minor": 5
}
