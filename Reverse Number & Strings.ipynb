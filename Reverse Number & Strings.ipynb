{
 "cells": [
  {
   "cell_type": "markdown",
   "id": "3314be5f",
   "metadata": {},
   "source": [
    "# Reverse Number and Strings:"
   ]
  },
  {
   "cell_type": "code",
   "execution_count": null,
   "id": "1cb0db86",
   "metadata": {},
   "outputs": [],
   "source": []
  },
  {
   "cell_type": "code",
   "execution_count": 6,
   "id": "0a92e6d0",
   "metadata": {},
   "outputs": [
    {
     "name": "stdout",
     "output_type": "stream",
     "text": [
      "Enter Any Word: 6593\n",
      "3956\n"
     ]
    }
   ],
   "source": [
    "rev=input(\"Enter Any Word: \")\n",
    "rev=str(rev)[::-1]\n",
    "print(rev)"
   ]
  },
  {
   "cell_type": "code",
   "execution_count": 7,
   "id": "22a030e3",
   "metadata": {},
   "outputs": [
    {
     "name": "stdout",
     "output_type": "stream",
     "text": [
      "Enter Any Word: REGEX\n",
      "XEGER\n"
     ]
    }
   ],
   "source": [
    "rev=input(\"Enter Any Word: \")\n",
    "rev=str(rev)[::-1]\n",
    "print(rev)"
   ]
  },
  {
   "cell_type": "code",
   "execution_count": null,
   "id": "a27ddfe4",
   "metadata": {},
   "outputs": [],
   "source": []
  }
 ],
 "metadata": {
  "kernelspec": {
   "display_name": "Python 3 (ipykernel)",
   "language": "python",
   "name": "python3"
  },
  "language_info": {
   "codemirror_mode": {
    "name": "ipython",
    "version": 3
   },
   "file_extension": ".py",
   "mimetype": "text/x-python",
   "name": "python",
   "nbconvert_exporter": "python",
   "pygments_lexer": "ipython3",
   "version": "3.10.11"
  }
 },
 "nbformat": 4,
 "nbformat_minor": 5
}
