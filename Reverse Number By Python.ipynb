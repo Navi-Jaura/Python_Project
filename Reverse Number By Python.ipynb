{
 "cells": [
  {
   "cell_type": "code",
   "execution_count": 2,
   "id": "48199f16",
   "metadata": {},
   "outputs": [
    {
     "name": "stdout",
     "output_type": "stream",
     "text": [
      "Enter Number : 85\n",
      "The Reverse Number is : 5\n",
      "The Reverse Number is : 58\n"
     ]
    }
   ],
   "source": [
    "# Write a program to reverse an integer in Python.\n",
    "# reverse number\n",
    "n=int(input(\"Enter Number : \"))\n",
    "\n",
    "rev=0\n",
    "\n",
    "while(n>0):\n",
    "    rev=(rev*10)+(n%10)\n",
    "    n=n//10\n",
    "    print(\"The Reverse Number is :\",rev)"
   ]
  },
  {
   "cell_type": "code",
   "execution_count": null,
   "id": "79dbbd34",
   "metadata": {},
   "outputs": [],
   "source": []
  }
 ],
 "metadata": {
  "kernelspec": {
   "display_name": "Python 3 (ipykernel)",
   "language": "python",
   "name": "python3"
  },
  "language_info": {
   "codemirror_mode": {
    "name": "ipython",
    "version": 3
   },
   "file_extension": ".py",
   "mimetype": "text/x-python",
   "name": "python",
   "nbconvert_exporter": "python",
   "pygments_lexer": "ipython3",
   "version": "3.10.11"
  }
 },
 "nbformat": 4,
 "nbformat_minor": 5
}
