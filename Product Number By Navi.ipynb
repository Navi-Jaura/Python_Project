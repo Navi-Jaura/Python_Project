{
 "cells": [
  {
   "cell_type": "code",
   "execution_count": 3,
   "id": "38bc31fb",
   "metadata": {},
   "outputs": [
    {
     "name": "stdout",
     "output_type": "stream",
     "text": [
      "Enter number for product to each other: 222\n",
      "8\n"
     ]
    }
   ],
   "source": [
    "n=int(input(\"Enter number for product to each other: \"))\n",
    "prod=1\n",
    "\n",
    "for i in range(n):\n",
    "    if n>0:\n",
    "        prod=prod*(n%10)\n",
    "        n=n//10\n",
    "print(prod)\n",
    "    "
   ]
  },
  {
   "cell_type": "code",
   "execution_count": null,
   "id": "597c245d",
   "metadata": {},
   "outputs": [],
   "source": []
  }
 ],
 "metadata": {
  "kernelspec": {
   "display_name": "Python 3 (ipykernel)",
   "language": "python",
   "name": "python3"
  },
  "language_info": {
   "codemirror_mode": {
    "name": "ipython",
    "version": 3
   },
   "file_extension": ".py",
   "mimetype": "text/x-python",
   "name": "python",
   "nbconvert_exporter": "python",
   "pygments_lexer": "ipython3",
   "version": "3.10.11"
  }
 },
 "nbformat": 4,
 "nbformat_minor": 5
}
