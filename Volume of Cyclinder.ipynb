{
 "cells": [
  {
   "cell_type": "markdown",
   "id": "88b14778",
   "metadata": {},
   "source": [
    "# Find Volume of Cyclinder"
   ]
  },
  {
   "cell_type": "markdown",
   "id": "fd2fe77d",
   "metadata": {},
   "source": [
    "# radius,height,cost and Volume Given.."
   ]
  },
  {
   "cell_type": "code",
   "execution_count": 1,
   "id": "cdb2d5a8",
   "metadata": {},
   "outputs": [
    {
     "name": "stdout",
     "output_type": "stream",
     "text": [
      "volume: 9.749699999999999\n",
      "5 Liter Cost: 2242.4309999999996\n"
     ]
    }
   ],
   "source": [
    "\n",
    "r=3\n",
    "h=345\n",
    "vol=3.14*r*r*h/1000\n",
    "print(\"volume:\",vol)\n",
    "cost=230\n",
    "calc=vol*cost\n",
    "print(\"5 Liter Cost:\",calc)"
   ]
  },
  {
   "cell_type": "code",
   "execution_count": null,
   "id": "e1e51313",
   "metadata": {},
   "outputs": [],
   "source": []
  }
 ],
 "metadata": {
  "kernelspec": {
   "display_name": "Python 3 (ipykernel)",
   "language": "python",
   "name": "python3"
  },
  "language_info": {
   "codemirror_mode": {
    "name": "ipython",
    "version": 3
   },
   "file_extension": ".py",
   "mimetype": "text/x-python",
   "name": "python",
   "nbconvert_exporter": "python",
   "pygments_lexer": "ipython3",
   "version": "3.10.11"
  }
 },
 "nbformat": 4,
 "nbformat_minor": 5
}
