{
 "cells": [
  {
   "cell_type": "markdown",
   "id": "2152ea83",
   "metadata": {},
   "source": [
    "# Default Area of Triangle"
   ]
  },
  {
   "cell_type": "code",
   "execution_count": 1,
   "id": "794bf1c8",
   "metadata": {},
   "outputs": [
    {
     "name": "stdout",
     "output_type": "stream",
     "text": [
      "The area of the triangle is 14.70\n"
     ]
    }
   ],
   "source": [
    "# Python Program to find the area of triangle\n",
    "\n",
    "a = 5\n",
    "b = 6\n",
    "c = 7\n",
    "\n",
    "# calculate the semi-perimeter\n",
    "\n",
    "s = (a + b + c) / 2\n",
    "\n",
    "# calculate the area\n",
    "\n",
    "area = (s * (s - a) * (s - b) * (s - c)) ** 0.5\n",
    "\n",
    "print(\"The area of the triangle is %0.2f\" % area)"
   ]
  },
  {
   "cell_type": "markdown",
   "id": "feddbb2b",
   "metadata": {},
   "source": [
    "# User Input Area Of Triangle"
   ]
  },
  {
   "cell_type": "code",
   "execution_count": 2,
   "id": "61d421b6",
   "metadata": {},
   "outputs": [
    {
     "name": "stdout",
     "output_type": "stream",
     "text": [
      "Enter first side: 5\n",
      "Enter second side: 3\n",
      "Enter third side: 6\n",
      "The area of the triangle is 7.48\n"
     ]
    }
   ],
   "source": [
    "# To take inputs from the user\n",
    "\n",
    "a = float(input('Enter first side: '))\n",
    "b = float(input('Enter second side: '))\n",
    "c = float(input('Enter third side: '))\n",
    "\n",
    "# calculate the semi-perimeter\n",
    "\n",
    "s = (a + b + c) / 2\n",
    "\n",
    "# calculate the area\n",
    "area = (s * (s - a) * (s - b) * (s - c)) ** 0.5\n",
    "print(\"The area of the triangle is %0.2f\" % area)"
   ]
  },
  {
   "cell_type": "code",
   "execution_count": null,
   "id": "dc33924c",
   "metadata": {},
   "outputs": [],
   "source": []
  }
 ],
 "metadata": {
  "kernelspec": {
   "display_name": "Python 3 (ipykernel)",
   "language": "python",
   "name": "python3"
  },
  "language_info": {
   "codemirror_mode": {
    "name": "ipython",
    "version": 3
   },
   "file_extension": ".py",
   "mimetype": "text/x-python",
   "name": "python",
   "nbconvert_exporter": "python",
   "pygments_lexer": "ipython3",
   "version": "3.10.11"
  }
 },
 "nbformat": 4,
 "nbformat_minor": 5
}
