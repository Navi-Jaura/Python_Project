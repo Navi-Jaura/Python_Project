{
 "cells": [
  {
   "cell_type": "code",
   "execution_count": 1,
   "id": "c7c80114",
   "metadata": {},
   "outputs": [
    {
     "name": "stdout",
     "output_type": "stream",
     "text": [
      "Enter Number: 153\n",
      "This is Armstrong Number\n"
     ]
    }
   ],
   "source": [
    "#\tWrite a program in Python to check whether an integer is Armstrong number or not.\n",
    "\n",
    "# Armstrong Number\n",
    "n=int(input(\"Enter Number: \"))\n",
    "original=n\n",
    "sum=0\n",
    "while(n>0):\n",
    "    sum=sum+(n%10)*(n%10)*(n%10)\n",
    "    n=n//10 \n",
    "    \n",
    "if original==sum:\n",
    "    print(\"This is Armstrong Number\")\n",
    "else:\n",
    "    print(\"This is Not Armstrong Number\")\n"
   ]
  },
  {
   "cell_type": "code",
   "execution_count": null,
   "id": "e9db498f",
   "metadata": {},
   "outputs": [],
   "source": []
  }
 ],
 "metadata": {
  "kernelspec": {
   "display_name": "Python 3 (ipykernel)",
   "language": "python",
   "name": "python3"
  },
  "language_info": {
   "codemirror_mode": {
    "name": "ipython",
    "version": 3
   },
   "file_extension": ".py",
   "mimetype": "text/x-python",
   "name": "python",
   "nbconvert_exporter": "python",
   "pygments_lexer": "ipython3",
   "version": "3.10.11"
  }
 },
 "nbformat": 4,
 "nbformat_minor": 5
}
