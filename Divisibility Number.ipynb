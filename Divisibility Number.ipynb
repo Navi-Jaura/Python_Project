{
 "cells": [
  {
   "cell_type": "code",
   "execution_count": 8,
   "id": "1e9cd914",
   "metadata": {},
   "outputs": [
    {
     "name": "stdout",
     "output_type": "stream",
     "text": [
      "Enter Divisible Number: 52\n",
      "Enter Divisible by Number: 2\n",
      "Yes 52 is Divisible Number by 2\n"
     ]
    }
   ],
   "source": [
    "div=int(input(\"Enter Divisible Number: \"))\n",
    "by=int(input(\"Enter Divisible by Number: \"))\n",
    "\n",
    "if (div%by==0):\n",
    "    print(\"Yes\",div,\"is Divisible Number by\",by)\n",
    "else:\n",
    "    print(\"No,\",div,\"is Not Divisible Number by\",by)"
   ]
  },
  {
   "cell_type": "code",
   "execution_count": null,
   "id": "c8ba2fc8",
   "metadata": {},
   "outputs": [],
   "source": []
  }
 ],
 "metadata": {
  "kernelspec": {
   "display_name": "Python 3 (ipykernel)",
   "language": "python",
   "name": "python3"
  },
  "language_info": {
   "codemirror_mode": {
    "name": "ipython",
    "version": 3
   },
   "file_extension": ".py",
   "mimetype": "text/x-python",
   "name": "python",
   "nbconvert_exporter": "python",
   "pygments_lexer": "ipython3",
   "version": "3.10.11"
  }
 },
 "nbformat": 4,
 "nbformat_minor": 5
}
