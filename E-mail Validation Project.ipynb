{
 "cells": [
  {
   "cell_type": "code",
   "execution_count": 13,
   "id": "78662c7e",
   "metadata": {},
   "outputs": [
    {
     "name": "stdout",
     "output_type": "stream",
     "text": [
      "Enter Your E-Mail: navi_jaura@gmail.com\n",
      "Correct E-Mail Id\n"
     ]
    }
   ],
   "source": [
    "email = input(\"Enter Your E-Mail: \")   #1)- mail.in  and 2)- mail.com\n",
    "k,j,d=0,0,0\n",
    "if len(email)>=6:   #1\n",
    "    if email[0].isalpha():    #2\n",
    "        if (\"@\" in email) and (email.count(\"@\")==1):\n",
    "            if (email[-4]==\".\") ^ (email[-3]==\".\"):\n",
    "                for i in email:\n",
    "                    if i==i.isspace():\n",
    "                        k=1\n",
    "                    elif i.isalpha():\n",
    "                        if i==i.upper():\n",
    "                            j=1\n",
    "                    elif i.isdigit():\n",
    "                        continue\n",
    "                    elif i==\"_\" or i==\".\" or i==\"@\":\n",
    "                        continue\n",
    "                    else:\n",
    "                        d=1\n",
    "                if k==1 or j==1 or d==1:\n",
    "                    print(\"Wrong Mail Id\")\n",
    "                else:\n",
    "                    print(\"Correct E-Mail Id\")\n",
    "            else:\n",
    "                print(\"Wrong Mail Id\")\n",
    "        else:\n",
    "            print(\"Wrong Mail Id\")\n",
    "    else:\n",
    "        print(\"Wrong Mail Id\")\n",
    "else:\n",
    "    print(\"Wrong Mail Id\")"
   ]
  },
  {
   "cell_type": "code",
   "execution_count": null,
   "id": "bf38b096",
   "metadata": {},
   "outputs": [],
   "source": []
  },
  {
   "cell_type": "code",
   "execution_count": null,
   "id": "3a098b5e",
   "metadata": {},
   "outputs": [],
   "source": []
  }
 ],
 "metadata": {
  "kernelspec": {
   "display_name": "Python 3 (ipykernel)",
   "language": "python",
   "name": "python3"
  },
  "language_info": {
   "codemirror_mode": {
    "name": "ipython",
    "version": 3
   },
   "file_extension": ".py",
   "mimetype": "text/x-python",
   "name": "python",
   "nbconvert_exporter": "python",
   "pygments_lexer": "ipython3",
   "version": "3.10.11"
  }
 },
 "nbformat": 4,
 "nbformat_minor": 5
}
