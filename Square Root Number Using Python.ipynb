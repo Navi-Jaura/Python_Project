{
 "cells": [
  {
   "cell_type": "markdown",
   "id": "8760a905",
   "metadata": {},
   "source": [
    "# Default Square Root"
   ]
  },
  {
   "cell_type": "code",
   "execution_count": 2,
   "id": "503e416b",
   "metadata": {},
   "outputs": [
    {
     "name": "stdout",
     "output_type": "stream",
     "text": [
      "The square root of 16.000 is 4.000\n"
     ]
    }
   ],
   "source": [
    "# Python Program to calculate the square root\n",
    "\n",
    "num = 16\n",
    "\n",
    "num_sqrt = num ** 0.5\n",
    "\n",
    "print('The square root of %0.3f is %0.3f'%(num ,num_sqrt))"
   ]
  },
  {
   "cell_type": "code",
   "execution_count": null,
   "id": "bcb33089",
   "metadata": {},
   "outputs": [],
   "source": []
  },
  {
   "cell_type": "markdown",
   "id": "9ebd8a17",
   "metadata": {},
   "source": [
    "# User Define Square Root"
   ]
  },
  {
   "cell_type": "code",
   "execution_count": 3,
   "id": "8edd5647",
   "metadata": {},
   "outputs": [
    {
     "name": "stdout",
     "output_type": "stream",
     "text": [
      "Enter a number: 81\n",
      "The square root of 81.000 is 9.000\n"
     ]
    }
   ],
   "source": [
    "# To take the input from the user\n",
    "\n",
    "num = float(input('Enter a number: '))\n",
    "\n",
    "num_sqrt = num ** 0.5\n",
    "print('The square root of %0.3f is %0.3f'%(num ,num_sqrt))"
   ]
  },
  {
   "cell_type": "code",
   "execution_count": null,
   "id": "5fc28d68",
   "metadata": {},
   "outputs": [],
   "source": []
  }
 ],
 "metadata": {
  "kernelspec": {
   "display_name": "Python 3 (ipykernel)",
   "language": "python",
   "name": "python3"
  },
  "language_info": {
   "codemirror_mode": {
    "name": "ipython",
    "version": 3
   },
   "file_extension": ".py",
   "mimetype": "text/x-python",
   "name": "python",
   "nbconvert_exporter": "python",
   "pygments_lexer": "ipython3",
   "version": "3.10.11"
  }
 },
 "nbformat": 4,
 "nbformat_minor": 5
}
