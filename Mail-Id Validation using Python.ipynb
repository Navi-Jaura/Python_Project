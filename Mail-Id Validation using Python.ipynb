{
 "cells": [
  {
   "cell_type": "code",
   "execution_count": 1,
   "id": "43c69fac",
   "metadata": {},
   "outputs": [],
   "source": [
    "# navi@gmail.com\n",
    "# navijaura@gmail.in"
   ]
  },
  {
   "cell_type": "code",
   "execution_count": 3,
   "id": "0fa8c44e",
   "metadata": {},
   "outputs": [
    {
     "name": "stdout",
     "output_type": "stream",
     "text": [
      "Enter Mail-ID : navi@gmail.com\n",
      "Right Mail\n"
     ]
    }
   ],
   "source": [
    "email=input(\"Enter Mail-ID : \")\n",
    "space,upper,digit=0,0,0\n",
    "if len(email)>=11:\n",
    "    if email[0].isalpha():\n",
    "        if (\"@\" in email) and (email.count(\"@\")==1):\n",
    "            if (email[-3]==\".\") ^ (email[-4]==\".\"):\n",
    "                for i in email:\n",
    "                    if i==i.isspace():\n",
    "                        space=1\n",
    "                    elif i==i.isalpha():\n",
    "                        if i==i.upper():\n",
    "                            upper=1\n",
    "                    elif i==i.isdigit():\n",
    "                        continue\n",
    "                    elif i==\"_\" or \".\" or \"@\":\n",
    "                        continue\n",
    "                    else:\n",
    "                        digit=1\n",
    "                if space==1 or upper==1 or digit==1:\n",
    "                    print(\"Wrong Mail-ID\")\n",
    "                else:\n",
    "                    print(\"Right Mail\")\n",
    "            else:\n",
    "                print(\"Invalid.. Point Location Invalid.\")\n",
    "        else:\n",
    "            print(\"Invalid.. Ampersand only 1 Time allow.\")\n",
    "    else:\n",
    "        print(\"Invalid.. First Letter Not Valid.\")\n",
    "else:\n",
    "    print(\"Mail id Is Invalid... Minimum Characters not Allowed.\")"
   ]
  },
  {
   "cell_type": "code",
   "execution_count": null,
   "id": "dab9c741",
   "metadata": {},
   "outputs": [],
   "source": []
  },
  {
   "cell_type": "code",
   "execution_count": null,
   "id": "0d3a8351",
   "metadata": {},
   "outputs": [],
   "source": []
  },
  {
   "cell_type": "code",
   "execution_count": null,
   "id": "1cca7c27",
   "metadata": {},
   "outputs": [],
   "source": []
  },
  {
   "cell_type": "code",
   "execution_count": null,
   "id": "c2373f97",
   "metadata": {},
   "outputs": [],
   "source": []
  },
  {
   "cell_type": "code",
   "execution_count": null,
   "id": "e5a92b76",
   "metadata": {},
   "outputs": [],
   "source": []
  },
  {
   "cell_type": "code",
   "execution_count": null,
   "id": "18297331",
   "metadata": {},
   "outputs": [],
   "source": []
  },
  {
   "cell_type": "code",
   "execution_count": null,
   "id": "42fd47e8",
   "metadata": {},
   "outputs": [],
   "source": []
  },
  {
   "cell_type": "code",
   "execution_count": null,
   "id": "6fcf8d1d",
   "metadata": {},
   "outputs": [],
   "source": []
  },
  {
   "cell_type": "code",
   "execution_count": null,
   "id": "6b0ebec4",
   "metadata": {},
   "outputs": [],
   "source": []
  },
  {
   "cell_type": "code",
   "execution_count": null,
   "id": "05cad1f0",
   "metadata": {},
   "outputs": [],
   "source": []
  },
  {
   "cell_type": "code",
   "execution_count": null,
   "id": "9caadbe7",
   "metadata": {},
   "outputs": [],
   "source": []
  },
  {
   "cell_type": "code",
   "execution_count": null,
   "id": "5c0fbf31",
   "metadata": {},
   "outputs": [],
   "source": []
  }
 ],
 "metadata": {
  "kernelspec": {
   "display_name": "Python 3 (ipykernel)",
   "language": "python",
   "name": "python3"
  },
  "language_info": {
   "codemirror_mode": {
    "name": "ipython",
    "version": 3
   },
   "file_extension": ".py",
   "mimetype": "text/x-python",
   "name": "python",
   "nbconvert_exporter": "python",
   "pygments_lexer": "ipython3",
   "version": "3.10.11"
  }
 },
 "nbformat": 4,
 "nbformat_minor": 5
}
